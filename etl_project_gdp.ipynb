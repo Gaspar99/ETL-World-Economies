{
 "cells": [
  {
   "cell_type": "code",
   "execution_count": 7,
   "id": "39bac0cd-00ff-44cd-94e0-772118572951",
   "metadata": {},
   "outputs": [],
   "source": [
    "import numpy as np\n",
    "import pandas as pd \n",
    "import requests \n",
    "from bs4 import BeautifulSoup\n",
    "import mysql.connector\n",
    "from sqlalchemy import create_engine"
   ]
  },
  {
   "cell_type": "code",
   "execution_count": 8,
   "id": "c9442aa3-b176-4d4d-b11b-d2be70d2b778",
   "metadata": {},
   "outputs": [],
   "source": [
    "db_name = \"World_Economies.db\"\n",
    "table_name = \"Country_by_GDP\"\n",
    "csv_path = \"Country_by_GDP.csv\""
   ]
  },
  {
   "cell_type": "code",
   "execution_count": null,
   "id": "c7a1380e-670c-44ef-a53b-df19ba32396a",
   "metadata": {},
   "outputs": [],
   "source": []
  }
 ],
 "metadata": {
  "kernelspec": {
   "display_name": "Python 3 (ipykernel)",
   "language": "python",
   "name": "python3"
  },
  "language_info": {
   "codemirror_mode": {
    "name": "ipython",
    "version": 3
   },
   "file_extension": ".py",
   "mimetype": "text/x-python",
   "name": "python",
   "nbconvert_exporter": "python",
   "pygments_lexer": "ipython3",
   "version": "3.10.11"
  }
 },
 "nbformat": 4,
 "nbformat_minor": 5
}
