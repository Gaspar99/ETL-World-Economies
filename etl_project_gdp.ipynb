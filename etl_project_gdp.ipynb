{
 "cells": [
  {
   "cell_type": "code",
   "execution_count": 1,
   "id": "39bac0cd-00ff-44cd-94e0-772118572951",
   "metadata": {},
   "outputs": [],
   "source": [
    "import numpy as np\n",
    "import pandas as pd \n",
    "import requests \n",
    "from bs4 import BeautifulSoup\n",
    "import mysql.connector\n",
    "from sqlalchemy import create_engine"
   ]
  },
  {
   "cell_type": "code",
   "execution_count": 2,
   "id": "c9442aa3-b176-4d4d-b11b-d2be70d2b778",
   "metadata": {},
   "outputs": [],
   "source": [
    "db_name = \"World_Economies.db\"\n",
    "table_name = \"Country_by_GDP\"\n",
    "csv_path = \"Country_by_GDP.csv\""
   ]
  },
  {
   "cell_type": "code",
   "execution_count": 3,
   "id": "c7a1380e-670c-44ef-a53b-df19ba32396a",
   "metadata": {},
   "outputs": [],
   "source": [
    "url = \"https://web.archive.org/web/20230902185326/https://en.wikipedia.org/wiki/List_of_countries_by_GDP_%28nominal%29\""
   ]
  },
  {
   "cell_type": "code",
   "execution_count": 4,
   "id": "c7e2c901-e70c-4410-bf8f-57cec3de9cbd",
   "metadata": {},
   "outputs": [],
   "source": [
    "data = requests.get(url).text"
   ]
  },
  {
   "cell_type": "code",
   "execution_count": 5,
   "id": "4a517bf1-9240-47ff-8aaf-d6f3d6b18543",
   "metadata": {},
   "outputs": [],
   "source": [
    "soup = BeautifulSoup(data, \"html.parser\")"
   ]
  },
  {
   "cell_type": "code",
   "execution_count": 6,
   "id": "15b0705b-df51-4e11-9da0-2c4f2c2494ef",
   "metadata": {},
   "outputs": [],
   "source": [
    "tables = soup.find_all(\"tbody\")"
   ]
  },
  {
   "cell_type": "code",
   "execution_count": 7,
   "id": "6d50d710-f441-478f-a64a-9dbca10c5f94",
   "metadata": {},
   "outputs": [],
   "source": [
    "gdp_table = tables[2]"
   ]
  },
  {
   "cell_type": "code",
   "execution_count": 9,
   "id": "2a3a3e5e-02ab-44f2-97d9-198d6f2927b6",
   "metadata": {},
   "outputs": [],
   "source": [
    "table_attribs = [\"Country\", \"GDP_USD_millions\"]"
   ]
  },
  {
   "cell_type": "code",
   "execution_count": 30,
   "id": "eb3d6c93-aa6e-4ae8-9732-986091292745",
   "metadata": {},
   "outputs": [],
   "source": [
    "def extract():\n",
    "    country_by_GDP = pd.DataFrame(columns= table_attribs)\n",
    "    url = \"https://web.archive.org/web/20230902185326/https://en.wikipedia.org/wiki/List_of_countries_by_GDP_%28nominal%29\"\n",
    "    data = requests.get(url)\n",
    "    soup = BeautifulSoup(data.content)\n",
    "    tables = soup.find_all(\"tbody\")\n",
    "    gdp_table = tables[2]\n",
    "    \n",
    "    for row in gdp_table.find_all(\"tr\"):\n",
    "        cols = row.find_all(\"td\")\n",
    "        if cols and \"—\" not in [col.text.strip() for col in cols[2]]:\n",
    "            first_column = cols[0]\n",
    "            links = first_column.find_all(\"a\")\n",
    "            if links:\n",
    "                Country = cols[0].text.strip()\n",
    "                GDP_USD_millions = cols[2].text.strip()\n",
    "                country_by_GDP = pd.concat([country_by_GDP, pd.DataFrame([{\"Country\": Country, \"GDP_USD_millions\": GDP_USD_millions}])], axis= 0, join= \"outer\", ignore_index = True)\n",
    "                                                   \n",
    "    return country_by_GDP"
   ]
  },
  {
   "cell_type": "code",
   "execution_count": 31,
   "id": "5f8e7460-3f6b-44e5-8053-039cf6b7d0b4",
   "metadata": {},
   "outputs": [
    {
     "data": {
      "text/html": [
       "<div>\n",
       "<style scoped>\n",
       "    .dataframe tbody tr th:only-of-type {\n",
       "        vertical-align: middle;\n",
       "    }\n",
       "\n",
       "    .dataframe tbody tr th {\n",
       "        vertical-align: top;\n",
       "    }\n",
       "\n",
       "    .dataframe thead th {\n",
       "        text-align: right;\n",
       "    }\n",
       "</style>\n",
       "<table border=\"1\" class=\"dataframe\">\n",
       "  <thead>\n",
       "    <tr style=\"text-align: right;\">\n",
       "      <th></th>\n",
       "      <th>Country</th>\n",
       "      <th>GDP_USD_millions</th>\n",
       "    </tr>\n",
       "  </thead>\n",
       "  <tbody>\n",
       "    <tr>\n",
       "      <th>0</th>\n",
       "      <td>United States</td>\n",
       "      <td>26,854,599</td>\n",
       "    </tr>\n",
       "    <tr>\n",
       "      <th>1</th>\n",
       "      <td>China</td>\n",
       "      <td>19,373,586</td>\n",
       "    </tr>\n",
       "    <tr>\n",
       "      <th>2</th>\n",
       "      <td>Japan</td>\n",
       "      <td>4,409,738</td>\n",
       "    </tr>\n",
       "    <tr>\n",
       "      <th>3</th>\n",
       "      <td>Germany</td>\n",
       "      <td>4,308,854</td>\n",
       "    </tr>\n",
       "    <tr>\n",
       "      <th>4</th>\n",
       "      <td>India</td>\n",
       "      <td>3,736,882</td>\n",
       "    </tr>\n",
       "    <tr>\n",
       "      <th>...</th>\n",
       "      <td>...</td>\n",
       "      <td>...</td>\n",
       "    </tr>\n",
       "    <tr>\n",
       "      <th>186</th>\n",
       "      <td>Marshall Islands</td>\n",
       "      <td>291</td>\n",
       "    </tr>\n",
       "    <tr>\n",
       "      <th>187</th>\n",
       "      <td>Palau</td>\n",
       "      <td>262</td>\n",
       "    </tr>\n",
       "    <tr>\n",
       "      <th>188</th>\n",
       "      <td>Kiribati</td>\n",
       "      <td>248</td>\n",
       "    </tr>\n",
       "    <tr>\n",
       "      <th>189</th>\n",
       "      <td>Nauru</td>\n",
       "      <td>151</td>\n",
       "    </tr>\n",
       "    <tr>\n",
       "      <th>190</th>\n",
       "      <td>Tuvalu</td>\n",
       "      <td>65</td>\n",
       "    </tr>\n",
       "  </tbody>\n",
       "</table>\n",
       "<p>191 rows × 2 columns</p>\n",
       "</div>"
      ],
      "text/plain": [
       "              Country GDP_USD_millions\n",
       "0       United States       26,854,599\n",
       "1               China       19,373,586\n",
       "2               Japan        4,409,738\n",
       "3             Germany        4,308,854\n",
       "4               India        3,736,882\n",
       "..                ...              ...\n",
       "186  Marshall Islands              291\n",
       "187             Palau              262\n",
       "188          Kiribati              248\n",
       "189             Nauru              151\n",
       "190            Tuvalu               65\n",
       "\n",
       "[191 rows x 2 columns]"
      ]
     },
     "execution_count": 31,
     "metadata": {},
     "output_type": "execute_result"
    }
   ],
   "source": [
    "extract()"
   ]
  },
  {
   "cell_type": "code",
   "execution_count": null,
   "id": "e941e27a-ad88-4599-89a4-0bf4f4c3bd3e",
   "metadata": {},
   "outputs": [],
   "source": [
    "def extract():\n",
    "    country_by_GDP = pd.DataFrame(columns= table_attribs)\n",
    "    url = \"https://web.archive.org/web/20230902185326/https://en.wikipedia.org/wiki/List_of_countries_by_GDP_%28nominal%29\"\n",
    "    data = requests.get(url)\n",
    "    soup = BeautifulSoup(data.content)\n",
    "    tables = soup.find_all(\"tbody\")\n",
    "    gdp_table = tables[2]\n",
    "    \n",
    "    for row in gdp_table.find_all(\"tr\"):\n",
    "        cols = row.find_all(\"td\")\n",
    "        if len(cols) != 0:\n",
    "            if cols[0].find(\"a\") is not None and \"—\" not add\n",
    "        "
   ]
  }
 ],
 "metadata": {
  "kernelspec": {
   "display_name": "Python 3 (ipykernel)",
   "language": "python",
   "name": "python3"
  },
  "language_info": {
   "codemirror_mode": {
    "name": "ipython",
    "version": 3
   },
   "file_extension": ".py",
   "mimetype": "text/x-python",
   "name": "python",
   "nbconvert_exporter": "python",
   "pygments_lexer": "ipython3",
   "version": "3.10.11"
  }
 },
 "nbformat": 4,
 "nbformat_minor": 5
}
